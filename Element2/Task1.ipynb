{
 "cells": [
  {
   "cell_type": "markdown",
   "id": "7afdda79-63f4-42b7-ba74-f179050f7041",
   "metadata": {},
   "source": [
    "With a simple python code to demonstrate the following using this simple dataset"
   ]
  },
  {
   "cell_type": "markdown",
   "id": "7e873986-14a8-42db-9e6e-259b1ce11de9",
   "metadata": {},
   "source": [
    "## Task 1"
   ]
  },
  {
   "cell_type": "markdown",
   "id": "ce4af258-26be-4264-ae75-8d484c3a0a10",
   "metadata": {},
   "source": [
    "Perform a series of correlations on the above (fictitious) data."
   ]
  },
  {
   "cell_type": "markdown",
   "id": "01923454-a11c-4b0d-9149-810a436b850e",
   "metadata": {},
   "source": [
    "First I wrote the data from the graph to **Examdataset1.csv**"
   ]
  },
  {
   "cell_type": "code",
   "execution_count": 2,
   "id": "7d4d6b28-3c7b-40d3-bf2a-cebe3c6aca58",
   "metadata": {},
   "outputs": [
    {
     "data": {
      "text/html": [
       "<div>\n",
       "<style scoped>\n",
       "    .dataframe tbody tr th:only-of-type {\n",
       "        vertical-align: middle;\n",
       "    }\n",
       "\n",
       "    .dataframe tbody tr th {\n",
       "        vertical-align: top;\n",
       "    }\n",
       "\n",
       "    .dataframe thead th {\n",
       "        text-align: right;\n",
       "    }\n",
       "</style>\n",
       "<table border=\"1\" class=\"dataframe\">\n",
       "  <thead>\n",
       "    <tr style=\"text-align: right;\">\n",
       "      <th></th>\n",
       "      <th>Memory(Negative Memory Bias)</th>\n",
       "      <th>Anxiety</th>\n",
       "      <th>Depression</th>\n",
       "      <th>Self-Esteem</th>\n",
       "    </tr>\n",
       "  </thead>\n",
       "  <tbody>\n",
       "    <tr>\n",
       "      <th>0</th>\n",
       "      <td>5</td>\n",
       "      <td>20</td>\n",
       "      <td>0</td>\n",
       "      <td>16</td>\n",
       "    </tr>\n",
       "    <tr>\n",
       "      <th>1</th>\n",
       "      <td>5</td>\n",
       "      <td>21</td>\n",
       "      <td>0</td>\n",
       "      <td>15</td>\n",
       "    </tr>\n",
       "    <tr>\n",
       "      <th>2</th>\n",
       "      <td>6</td>\n",
       "      <td>24</td>\n",
       "      <td>0</td>\n",
       "      <td>19</td>\n",
       "    </tr>\n",
       "    <tr>\n",
       "      <th>3</th>\n",
       "      <td>6</td>\n",
       "      <td>32</td>\n",
       "      <td>1</td>\n",
       "      <td>18</td>\n",
       "    </tr>\n",
       "    <tr>\n",
       "      <th>4</th>\n",
       "      <td>7</td>\n",
       "      <td>32</td>\n",
       "      <td>1</td>\n",
       "      <td>17</td>\n",
       "    </tr>\n",
       "    <tr>\n",
       "      <th>5</th>\n",
       "      <td>7</td>\n",
       "      <td>21</td>\n",
       "      <td>1</td>\n",
       "      <td>18</td>\n",
       "    </tr>\n",
       "    <tr>\n",
       "      <th>6</th>\n",
       "      <td>7</td>\n",
       "      <td>45</td>\n",
       "      <td>3</td>\n",
       "      <td>16</td>\n",
       "    </tr>\n",
       "    <tr>\n",
       "      <th>7</th>\n",
       "      <td>8</td>\n",
       "      <td>45</td>\n",
       "      <td>3</td>\n",
       "      <td>10</td>\n",
       "    </tr>\n",
       "    <tr>\n",
       "      <th>8</th>\n",
       "      <td>9</td>\n",
       "      <td>31</td>\n",
       "      <td>5</td>\n",
       "      <td>15</td>\n",
       "    </tr>\n",
       "    <tr>\n",
       "      <th>9</th>\n",
       "      <td>9</td>\n",
       "      <td>22</td>\n",
       "      <td>8</td>\n",
       "      <td>15</td>\n",
       "    </tr>\n",
       "    <tr>\n",
       "      <th>10</th>\n",
       "      <td>10</td>\n",
       "      <td>44</td>\n",
       "      <td>6</td>\n",
       "      <td>14</td>\n",
       "    </tr>\n",
       "    <tr>\n",
       "      <th>11</th>\n",
       "      <td>4</td>\n",
       "      <td>45</td>\n",
       "      <td>6</td>\n",
       "      <td>13</td>\n",
       "    </tr>\n",
       "    <tr>\n",
       "      <th>12</th>\n",
       "      <td>11</td>\n",
       "      <td>46</td>\n",
       "      <td>7</td>\n",
       "      <td>15</td>\n",
       "    </tr>\n",
       "    <tr>\n",
       "      <th>13</th>\n",
       "      <td>13</td>\n",
       "      <td>49</td>\n",
       "      <td>8</td>\n",
       "      <td>12</td>\n",
       "    </tr>\n",
       "    <tr>\n",
       "      <th>14</th>\n",
       "      <td>13</td>\n",
       "      <td>45</td>\n",
       "      <td>10</td>\n",
       "      <td>10</td>\n",
       "    </tr>\n",
       "    <tr>\n",
       "      <th>15</th>\n",
       "      <td>13</td>\n",
       "      <td>60</td>\n",
       "      <td>16</td>\n",
       "      <td>9</td>\n",
       "    </tr>\n",
       "    <tr>\n",
       "      <th>16</th>\n",
       "      <td>16</td>\n",
       "      <td>56</td>\n",
       "      <td>20</td>\n",
       "      <td>2</td>\n",
       "    </tr>\n",
       "    <tr>\n",
       "      <th>17</th>\n",
       "      <td>16</td>\n",
       "      <td>57</td>\n",
       "      <td>13</td>\n",
       "      <td>2</td>\n",
       "    </tr>\n",
       "    <tr>\n",
       "      <th>18</th>\n",
       "      <td>19</td>\n",
       "      <td>48</td>\n",
       "      <td>28</td>\n",
       "      <td>12</td>\n",
       "    </tr>\n",
       "    <tr>\n",
       "      <th>19</th>\n",
       "      <td>20</td>\n",
       "      <td>41</td>\n",
       "      <td>24</td>\n",
       "      <td>1</td>\n",
       "    </tr>\n",
       "  </tbody>\n",
       "</table>\n",
       "</div>"
      ],
      "text/plain": [
       "    Memory(Negative Memory Bias)  Anxiety  Depression  Self-Esteem\n",
       "0                              5       20           0           16\n",
       "1                              5       21           0           15\n",
       "2                              6       24           0           19\n",
       "3                              6       32           1           18\n",
       "4                              7       32           1           17\n",
       "5                              7       21           1           18\n",
       "6                              7       45           3           16\n",
       "7                              8       45           3           10\n",
       "8                              9       31           5           15\n",
       "9                              9       22           8           15\n",
       "10                            10       44           6           14\n",
       "11                             4       45           6           13\n",
       "12                            11       46           7           15\n",
       "13                            13       49           8           12\n",
       "14                            13       45          10           10\n",
       "15                            13       60          16            9\n",
       "16                            16       56          20            2\n",
       "17                            16       57          13            2\n",
       "18                            19       48          28           12\n",
       "19                            20       41          24            1"
      ]
     },
     "execution_count": 2,
     "metadata": {},
     "output_type": "execute_result"
    }
   ],
   "source": [
    "import pandas as pd\n",
    "import scipy.stats as stats\n",
    "\n",
    "# Load the dataset\n",
    "df = pd.read_csv(\"Examdataset1.csv\")\n",
    "df"
   ]
  },
  {
   "cell_type": "code",
   "execution_count": 5,
   "id": "0c2491e9-12ca-442d-9e87-463b40c999d3",
   "metadata": {},
   "outputs": [
    {
     "data": {
      "text/html": [
       "<div>\n",
       "<style scoped>\n",
       "    .dataframe tbody tr th:only-of-type {\n",
       "        vertical-align: middle;\n",
       "    }\n",
       "\n",
       "    .dataframe tbody tr th {\n",
       "        vertical-align: top;\n",
       "    }\n",
       "\n",
       "    .dataframe thead th {\n",
       "        text-align: right;\n",
       "    }\n",
       "</style>\n",
       "<table border=\"1\" class=\"dataframe\">\n",
       "  <thead>\n",
       "    <tr style=\"text-align: right;\">\n",
       "      <th></th>\n",
       "      <th>Memory(Negative Memory Bias)</th>\n",
       "      <th>Anxiety</th>\n",
       "      <th>Depression</th>\n",
       "      <th>Self-Esteem</th>\n",
       "    </tr>\n",
       "  </thead>\n",
       "  <tbody>\n",
       "    <tr>\n",
       "      <th>Memory(Negative Memory Bias)</th>\n",
       "      <td>1.000000</td>\n",
       "      <td>0.631711</td>\n",
       "      <td>0.925598</td>\n",
       "      <td>-0.786000</td>\n",
       "    </tr>\n",
       "    <tr>\n",
       "      <th>Anxiety</th>\n",
       "      <td>0.631711</td>\n",
       "      <td>1.000000</td>\n",
       "      <td>0.624016</td>\n",
       "      <td>-0.678946</td>\n",
       "    </tr>\n",
       "    <tr>\n",
       "      <th>Depression</th>\n",
       "      <td>0.925598</td>\n",
       "      <td>0.624016</td>\n",
       "      <td>1.000000</td>\n",
       "      <td>-0.746602</td>\n",
       "    </tr>\n",
       "    <tr>\n",
       "      <th>Self-Esteem</th>\n",
       "      <td>-0.786000</td>\n",
       "      <td>-0.678946</td>\n",
       "      <td>-0.746602</td>\n",
       "      <td>1.000000</td>\n",
       "    </tr>\n",
       "  </tbody>\n",
       "</table>\n",
       "</div>"
      ],
      "text/plain": [
       "                              Memory(Negative Memory Bias)   Anxiety  \\\n",
       "Memory(Negative Memory Bias)                      1.000000  0.631711   \n",
       "Anxiety                                           0.631711  1.000000   \n",
       "Depression                                        0.925598  0.624016   \n",
       "Self-Esteem                                      -0.786000 -0.678946   \n",
       "\n",
       "                              Depression  Self-Esteem  \n",
       "Memory(Negative Memory Bias)    0.925598    -0.786000  \n",
       "Anxiety                         0.624016    -0.678946  \n",
       "Depression                      1.000000    -0.746602  \n",
       "Self-Esteem                    -0.746602     1.000000  "
      ]
     },
     "execution_count": 5,
     "metadata": {},
     "output_type": "execute_result"
    }
   ],
   "source": [
    "# Calculate the Pearson correlation coefficients between each pair of variables\n",
    "correlation_matrix = df.corr()\n",
    "correlation_matrix"
   ]
  },
  {
   "cell_type": "markdown",
   "id": "3fb743f3-0ba6-44c5-ad8a-6e137e1998a0",
   "metadata": {},
   "source": [
    "- **Memory (Negative Memory Bias) and Anxiety**: 0.6317\n",
    "- **Memory (Negative Memory Bias) and Depression**: 0.9256\n",
    "- **Memory (Negative Memory Bias) and Self-Esteem**: -0.7860\n",
    "- **Anxiety and Depression**: 0.6240\n",
    "- **Anxiety and Self-Esteem**: -0.6789\n",
    "- **Depression and Self-Esteem**: -0.7466"
   ]
  },
  {
   "cell_type": "markdown",
   "id": "38d45415-090e-4111-a641-003305c50ee1",
   "metadata": {},
   "source": [
    "These coefficients range from -1 to 1, where 1 indicates a perfect positive correlation, -1 indicates a perfect negative correlation, and 0 indicates no correlation. The values show the strength and direction of the linear relationship between the variables. For example, a high negative memory bias is strongly positively correlated with depression and strongly negatively correlated with self-esteem."
   ]
  },
  {
   "cell_type": "markdown",
   "id": "0b88ac14-a058-4e31-a5c3-802ba2814846",
   "metadata": {},
   "source": [
    "## Task 2"
   ]
  },
  {
   "cell_type": "markdown",
   "id": "24e924f4-fd49-45ad-a8e2-f4b15aac5172",
   "metadata": {},
   "source": [
    "Demonstrate through multiple regression to examine the contribution of each independent variable to the prediction of Memory Bias. Also report how much of the variance is accounted for by the regression equation?"
   ]
  },
  {
   "cell_type": "code",
   "execution_count": 7,
   "id": "e233a4cd-9ac9-4242-a64d-efa2af16cd9a",
   "metadata": {},
   "outputs": [
    {
     "data": {
      "text/plain": [
       "(array([ 0.0061383 ,  0.4383072 , -0.18240165]),\n",
       " 8.723821631330324,\n",
       " 0.8772391478014961)"
      ]
     },
     "execution_count": 7,
     "metadata": {},
     "output_type": "execute_result"
    }
   ],
   "source": [
    "from sklearn.linear_model import LinearRegression\n",
    "from sklearn.metrics import r2_score\n",
    "\n",
    "# Preparing the data for multiple regression\n",
    "# Independent variables: Anxiety, Depression, Self-Esteem\n",
    "# Dependent variable: Memory (Negative Memory Bias)\n",
    "X = df[['Anxiety', 'Depression', 'Self-Esteem']]\n",
    "y = df['Memory(Negative Memory Bias)']\n",
    "\n",
    "# Create a linear regression model\n",
    "model = LinearRegression()\n",
    "\n",
    "# Fit the model\n",
    "model.fit(X, y)\n",
    "\n",
    "# Coefficients and intercept\n",
    "coefficients = model.coef_\n",
    "intercept = model.intercept_\n",
    "\n",
    "# Predictions and R-squared value\n",
    "y_pred = model.predict(X)\n",
    "r_squared = r2_score(y, y_pred)\n",
    "\n",
    "coefficients, intercept, r_squared\n"
   ]
  },
  {
   "cell_type": "markdown",
   "id": "ab447df8-2b59-4598-96fc-f07a3f680ad3",
   "metadata": {},
   "source": [
    "**Coefficient for Anxiety**: 0.0061  \n",
    "**Coefficient for Depressio**n: 0.4383  \n",
    "**Coefficient for Self-Esteem**: −0.1824  \n",
    "**Intercept**: 8.7238  "
   ]
  },
  {
   "cell_type": "markdown",
   "id": "e2649465-0dee-407b-a39d-5a4ce2e62377",
   "metadata": {},
   "source": [
    "The R^2 2\r\n",
    "  value of the regression equati .8772\r\n",
    "0.8772. This indicates that approximately 87.72% of the variance in Memory Bias is accounted for by the regression equation. ThiR^2 2\r\n",
    "R \r\n",
    "2\r\n",
    "  value suggests that the model explains a large portion of the variability in Memory Bias."
   ]
  },
  {
   "cell_type": "markdown",
   "id": "d72caeca-b52d-416d-ab7a-4feaaa6b4224",
   "metadata": {},
   "source": [
    "## Task 3"
   ]
  },
  {
   "cell_type": "markdown",
   "id": "49fda91f-abd0-44aa-9cfe-7fd06dc37459",
   "metadata": {},
   "source": [
    "Based on the above analysis, what would be the predicted value of Memory Bias for a person with an Anxiety score of 44, a Depression score of 13 and a Self-Esteem score of 12?"
   ]
  },
  {
   "cell_type": "code",
   "execution_count": 8,
   "id": "e30c1e87-9515-4458-8bb8-51953fffa966",
   "metadata": {},
   "outputs": [
    {
     "name": "stderr",
     "output_type": "stream",
     "text": [
      "D:\\anaconda\\envs\\DSAI1\\lib\\site-packages\\sklearn\\base.py:465: UserWarning: X does not have valid feature names, but LinearRegression was fitted with feature names\n",
      "  warnings.warn(\n"
     ]
    },
    {
     "data": {
      "text/plain": [
       "12.503080579929751"
      ]
     },
     "execution_count": 8,
     "metadata": {},
     "output_type": "execute_result"
    }
   ],
   "source": [
    "# Predicting the value of Memory Bias for specified scores\n",
    "anxiety_score = 44\n",
    "depression_score = 13\n",
    "self_esteem_score = 12\n",
    "\n",
    "# Creating an array of the specified scores\n",
    "input_features = [[anxiety_score, depression_score, self_esteem_score]]\n",
    "\n",
    "# Predicting Memory Bias\n",
    "predicted_memory_bias = model.predict(input_features)\n",
    "predicted_memory_bias[0]"
   ]
  },
  {
   "cell_type": "markdown",
   "id": "1999cfa2-db1b-4b57-bada-ec32a00e09d7",
   "metadata": {},
   "source": [
    "Based on the multiple regression analysis, the predicted value of Memory Bias for a person with an Anxiety score of 44, a Depression score of 13, and a Self-Esteem score of 12 is approximately 12.50."
   ]
  },
  {
   "cell_type": "markdown",
   "id": "87d92cdf-dd9b-4ae4-89b6-3d580ae742a4",
   "metadata": {},
   "source": [
    "## Task 4"
   ]
  },
  {
   "cell_type": "markdown",
   "id": "75523618-c399-4435-89d8-eb7a4a14b366",
   "metadata": {},
   "source": [
    "Using the same data, perform a multiple regression to determine the best predictor of Memory Bias."
   ]
  },
  {
   "cell_type": "code",
   "execution_count": 10,
   "id": "fff9a059-8a0a-4737-afea-f103ad5512d1",
   "metadata": {},
   "outputs": [
    {
     "data": {
      "text/html": [
       "<table class=\"simpletable\">\n",
       "<caption>OLS Regression Results</caption>\n",
       "<tr>\n",
       "  <th>Dep. Variable:</th>    <td>Memory(Negative Memory Bias)</td> <th>  R-squared:         </th> <td>   0.877</td>\n",
       "</tr>\n",
       "<tr>\n",
       "  <th>Model:</th>                         <td>OLS</td>             <th>  Adj. R-squared:    </th> <td>   0.854</td>\n",
       "</tr>\n",
       "<tr>\n",
       "  <th>Method:</th>                   <td>Least Squares</td>        <th>  F-statistic:       </th> <td>   38.11</td>\n",
       "</tr>\n",
       "<tr>\n",
       "  <th>Date:</th>                   <td>Thu, 07 Dec 2023</td>       <th>  Prob (F-statistic):</th> <td>1.63e-07</td>\n",
       "</tr>\n",
       "<tr>\n",
       "  <th>Time:</th>                       <td>02:24:08</td>           <th>  Log-Likelihood:    </th> <td> -38.112</td>\n",
       "</tr>\n",
       "<tr>\n",
       "  <th>No. Observations:</th>            <td>    20</td>            <th>  AIC:               </th> <td>   84.22</td>\n",
       "</tr>\n",
       "<tr>\n",
       "  <th>Df Residuals:</th>                <td>    16</td>            <th>  BIC:               </th> <td>   88.21</td>\n",
       "</tr>\n",
       "<tr>\n",
       "  <th>Df Model:</th>                    <td>     3</td>            <th>                     </th>     <td> </td>   \n",
       "</tr>\n",
       "<tr>\n",
       "  <th>Covariance Type:</th>            <td>nonrobust</td>          <th>                     </th>     <td> </td>   \n",
       "</tr>\n",
       "</table>\n",
       "<table class=\"simpletable\">\n",
       "<tr>\n",
       "       <td></td>          <th>coef</th>     <th>std err</th>      <th>t</th>      <th>P>|t|</th>  <th>[0.025</th>    <th>0.975]</th>  \n",
       "</tr>\n",
       "<tr>\n",
       "  <th>const</th>       <td>    8.7238</td> <td>    3.027</td> <td>    2.882</td> <td> 0.011</td> <td>    2.307</td> <td>   15.141</td>\n",
       "</tr>\n",
       "<tr>\n",
       "  <th>Anxiety</th>     <td>    0.0061</td> <td>    0.046</td> <td>    0.135</td> <td> 0.894</td> <td>   -0.090</td> <td>    0.103</td>\n",
       "</tr>\n",
       "<tr>\n",
       "  <th>Depression</th>  <td>    0.4383</td> <td>    0.078</td> <td>    5.612</td> <td> 0.000</td> <td>    0.273</td> <td>    0.604</td>\n",
       "</tr>\n",
       "<tr>\n",
       "  <th>Self-Esteem</th> <td>   -0.1824</td> <td>    0.127</td> <td>   -1.431</td> <td> 0.172</td> <td>   -0.453</td> <td>    0.088</td>\n",
       "</tr>\n",
       "</table>\n",
       "<table class=\"simpletable\">\n",
       "<tr>\n",
       "  <th>Omnibus:</th>       <td>14.465</td> <th>  Durbin-Watson:     </th> <td>   2.292</td>\n",
       "</tr>\n",
       "<tr>\n",
       "  <th>Prob(Omnibus):</th> <td> 0.001</td> <th>  Jarque-Bera (JB):  </th> <td>  14.318</td>\n",
       "</tr>\n",
       "<tr>\n",
       "  <th>Skew:</th>          <td>-1.405</td> <th>  Prob(JB):          </th> <td>0.000778</td>\n",
       "</tr>\n",
       "<tr>\n",
       "  <th>Kurtosis:</th>      <td> 6.048</td> <th>  Cond. No.          </th> <td>    324.</td>\n",
       "</tr>\n",
       "</table><br/><br/>Notes:<br/>[1] Standard Errors assume that the covariance matrix of the errors is correctly specified."
      ],
      "text/latex": [
       "\\begin{center}\n",
       "\\begin{tabular}{lclc}\n",
       "\\toprule\n",
       "\\textbf{Dep. Variable:}    & Memory(Negative Memory Bias) & \\textbf{  R-squared:         } &     0.877   \\\\\n",
       "\\textbf{Model:}            &             OLS              & \\textbf{  Adj. R-squared:    } &     0.854   \\\\\n",
       "\\textbf{Method:}           &        Least Squares         & \\textbf{  F-statistic:       } &     38.11   \\\\\n",
       "\\textbf{Date:}             &       Thu, 07 Dec 2023       & \\textbf{  Prob (F-statistic):} &  1.63e-07   \\\\\n",
       "\\textbf{Time:}             &           02:24:08           & \\textbf{  Log-Likelihood:    } &   -38.112   \\\\\n",
       "\\textbf{No. Observations:} &                20            & \\textbf{  AIC:               } &     84.22   \\\\\n",
       "\\textbf{Df Residuals:}     &                16            & \\textbf{  BIC:               } &     88.21   \\\\\n",
       "\\textbf{Df Model:}         &                 3            & \\textbf{                     } &             \\\\\n",
       "\\textbf{Covariance Type:}  &          nonrobust           & \\textbf{                     } &             \\\\\n",
       "\\bottomrule\n",
       "\\end{tabular}\n",
       "\\begin{tabular}{lcccccc}\n",
       "                     & \\textbf{coef} & \\textbf{std err} & \\textbf{t} & \\textbf{P$> |$t$|$} & \\textbf{[0.025} & \\textbf{0.975]}  \\\\\n",
       "\\midrule\n",
       "\\textbf{const}       &       8.7238  &        3.027     &     2.882  &         0.011        &        2.307    &       15.141     \\\\\n",
       "\\textbf{Anxiety}     &       0.0061  &        0.046     &     0.135  &         0.894        &       -0.090    &        0.103     \\\\\n",
       "\\textbf{Depression}  &       0.4383  &        0.078     &     5.612  &         0.000        &        0.273    &        0.604     \\\\\n",
       "\\textbf{Self-Esteem} &      -0.1824  &        0.127     &    -1.431  &         0.172        &       -0.453    &        0.088     \\\\\n",
       "\\bottomrule\n",
       "\\end{tabular}\n",
       "\\begin{tabular}{lclc}\n",
       "\\textbf{Omnibus:}       & 14.465 & \\textbf{  Durbin-Watson:     } &    2.292  \\\\\n",
       "\\textbf{Prob(Omnibus):} &  0.001 & \\textbf{  Jarque-Bera (JB):  } &   14.318  \\\\\n",
       "\\textbf{Skew:}          & -1.405 & \\textbf{  Prob(JB):          } & 0.000778  \\\\\n",
       "\\textbf{Kurtosis:}      &  6.048 & \\textbf{  Cond. No.          } &     324.  \\\\\n",
       "\\bottomrule\n",
       "\\end{tabular}\n",
       "%\\caption{OLS Regression Results}\n",
       "\\end{center}\n",
       "\n",
       "Notes: \\newline\n",
       " [1] Standard Errors assume that the covariance matrix of the errors is correctly specified."
      ],
      "text/plain": [
       "<class 'statsmodels.iolib.summary.Summary'>\n",
       "\"\"\"\n",
       "                                 OLS Regression Results                                 \n",
       "========================================================================================\n",
       "Dep. Variable:     Memory(Negative Memory Bias)   R-squared:                       0.877\n",
       "Model:                                      OLS   Adj. R-squared:                  0.854\n",
       "Method:                           Least Squares   F-statistic:                     38.11\n",
       "Date:                          Thu, 07 Dec 2023   Prob (F-statistic):           1.63e-07\n",
       "Time:                                  02:24:08   Log-Likelihood:                -38.112\n",
       "No. Observations:                            20   AIC:                             84.22\n",
       "Df Residuals:                                16   BIC:                             88.21\n",
       "Df Model:                                     3                                         \n",
       "Covariance Type:                      nonrobust                                         \n",
       "===============================================================================\n",
       "                  coef    std err          t      P>|t|      [0.025      0.975]\n",
       "-------------------------------------------------------------------------------\n",
       "const           8.7238      3.027      2.882      0.011       2.307      15.141\n",
       "Anxiety         0.0061      0.046      0.135      0.894      -0.090       0.103\n",
       "Depression      0.4383      0.078      5.612      0.000       0.273       0.604\n",
       "Self-Esteem    -0.1824      0.127     -1.431      0.172      -0.453       0.088\n",
       "==============================================================================\n",
       "Omnibus:                       14.465   Durbin-Watson:                   2.292\n",
       "Prob(Omnibus):                  0.001   Jarque-Bera (JB):               14.318\n",
       "Skew:                          -1.405   Prob(JB):                     0.000778\n",
       "Kurtosis:                       6.048   Cond. No.                         324.\n",
       "==============================================================================\n",
       "\n",
       "Notes:\n",
       "[1] Standard Errors assume that the covariance matrix of the errors is correctly specified.\n",
       "\"\"\""
      ]
     },
     "execution_count": 10,
     "metadata": {},
     "output_type": "execute_result"
    }
   ],
   "source": [
    "import statsmodels.api as sm\n",
    "\n",
    "# Adding a constant to the independent variables\n",
    "X_with_constant = sm.add_constant(X)\n",
    "\n",
    "# Create a model using statsmodels for detailed statistics\n",
    "model_sm = sm.OLS(y, X_with_constant)\n",
    "\n",
    "# Fit the model\n",
    "results = model_sm.fit()\n",
    "\n",
    "# Get the summary of the regression\n",
    "model_summary = results.summary()\n",
    "model_summary\n"
   ]
  },
  {
   "cell_type": "markdown",
   "id": "bdfa5a2a-748e-422b-8ad2-fe3e6ba98b72",
   "metadata": {},
   "source": [
    "**Depression** has the most significant impact on Memory Bias, with a coefficient of \r\n",
    "0.4383 and a very low p-value (p < 0.001). This suggests that Depression is a strong and statistically significant predictor of Memory Bias**.\r\n",
    "S-lf-Est** em shows a coefficient 1824\r\n",
    "−0.1824, but its p-val\n",
    "0.172\r\n",
    "0.172, which is above the common significance level of 0.05. This implies that while Self-Esteem contributes to the model, its effect is not statistically significant at the 5%** level.** \n",
    "Anxiety has a coeffi \r\n",
    "0.0061\r\n",
    "0.0061 with a  of \r\n",
    "0.894\r\n",
    "0.894, indicating that Anxiety is not a statistically significant predictor of Memory Bias in this model."
   ]
  },
  {
   "cell_type": "markdown",
   "id": "f6edcd24-defe-44f1-92d1-ee7f80c92541",
   "metadata": {},
   "source": [
    "## Task 5"
   ]
  },
  {
   "cell_type": "markdown",
   "id": "02676363-809b-407d-a763-cc06c2f85c41",
   "metadata": {},
   "source": [
    "Using the same data, perform a multiple regression to test the idea that Anxiety is the salient predictor of Memory Bias. Enter Anxiety on the first step, and Depression and Self-Esteem on the second."
   ]
  },
  {
   "cell_type": "code",
   "execution_count": 12,
   "id": "dc0e334a-5e59-4886-a6e3-6142735cc86a",
   "metadata": {},
   "outputs": [
    {
     "data": {
      "text/plain": [
       "(0.39905858271905825, 0.8772391478014961)"
      ]
     },
     "execution_count": 12,
     "metadata": {},
     "output_type": "execute_result"
    }
   ],
   "source": [
    "from sklearn.linear_model import LinearRegression\n",
    "from sklearn.metrics import r2_score\n",
    "\n",
    "# First step: Regression with only Anxiety\n",
    "X_anxiety = df[['Anxiety']]\n",
    "model_anxiety = LinearRegression()\n",
    "model_anxiety.fit(X_anxiety, y)\n",
    "y_pred_anxiety = model_anxiety.predict(X_anxiety)\n",
    "r_squared_anxiety = r2_score(y, y_pred_anxiety)\n",
    "\n",
    "# Second step: Regression with Anxiety, Depression, and Self-Esteem\n",
    "model_full = LinearRegression()\n",
    "model_full.fit(X, y)\n",
    "y_pred_full = model_full.predict(X)\n",
    "r_squared_full = r2_score(y, y_pred_full)\n",
    "\n",
    "r_squared_anxiety, r_squared_full"
   ]
  },
  {
   "cell_type": "markdown",
   "id": "3ba197bf-0ae9-432d-a9e9-6aa062514e50",
   "metadata": {},
   "source": [
    "**First Step (Only Anxiety)**:\n",
    "- R^2 value for the model with only Anxiety as the predictor is 0.3991. This indicates that Anxiety alone accounts for approximately 39.91% of the variance in Memory Bias.  \n",
    "**Second Step (Anxiety, Depression, and Self-Esteem)**:\n",
    "- When Depression and Self-Esteem are added to the model (along with Anxiety), the R^2 value increases to 0.8772. This means that the combined model accounts for approximately 87.72% of the variance in Memory Bias."
   ]
  },
  {
   "cell_type": "markdown",
   "id": "93c53133-55c9-4f4a-9512-8f7c88fc6c82",
   "metadata": {},
   "source": [
    "The substantial increase in the R^2 value from the first to the second step suggests that while Anxiety contributes to the model, it is not the most salient predictor. The inclusion of Depression and Self-Esteem greatly enhances the model's explanatory power, indicating that these variables, particularly Depression as seen in the previous task, play a more significant role in predicting Memory Bias."
   ]
  },
  {
   "cell_type": "code",
   "execution_count": null,
   "id": "26f3c218-f119-4f25-8fd5-395d50c24bf4",
   "metadata": {},
   "outputs": [],
   "source": []
  }
 ],
 "metadata": {
  "kernelspec": {
   "display_name": "Python 3 (ipykernel)",
   "language": "python",
   "name": "python3"
  },
  "language_info": {
   "codemirror_mode": {
    "name": "ipython",
    "version": 3
   },
   "file_extension": ".py",
   "mimetype": "text/x-python",
   "name": "python",
   "nbconvert_exporter": "python",
   "pygments_lexer": "ipython3",
   "version": "3.9.18"
  }
 },
 "nbformat": 4,
 "nbformat_minor": 5
}
