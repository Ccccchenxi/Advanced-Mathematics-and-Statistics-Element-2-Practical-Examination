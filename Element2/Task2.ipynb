{
 "cells": [
  {
   "cell_type": "markdown",
   "id": "06c4dce5-72bc-4566-850f-5a088dc4c4ab",
   "metadata": {},
   "source": [
    "With a simple python code to demonstrate the following using this simple dataset: This is a 2x3 between-subjects design with 2 levels of therapy (new vs. old) and 3 levels duration (short- vs. medium- vs. long-term improvement). The dependent variable is an improvement index where the higher the score, the greater the improvement."
   ]
  },
  {
   "cell_type": "markdown",
   "id": "3a8a3464-917d-4f0e-91a1-5e05fbe21ab3",
   "metadata": {},
   "source": [
    "## Creat the dataset"
   ]
  },
  {
   "cell_type": "code",
   "execution_count": 4,
   "id": "5e2614be-4059-4832-99d0-a6b6df25448e",
   "metadata": {},
   "outputs": [
    {
     "data": {
      "text/html": [
       "<div>\n",
       "<style scoped>\n",
       "    .dataframe tbody tr th:only-of-type {\n",
       "        vertical-align: middle;\n",
       "    }\n",
       "\n",
       "    .dataframe tbody tr th {\n",
       "        vertical-align: top;\n",
       "    }\n",
       "\n",
       "    .dataframe thead th {\n",
       "        text-align: right;\n",
       "    }\n",
       "</style>\n",
       "<table border=\"1\" class=\"dataframe\">\n",
       "  <thead>\n",
       "    <tr style=\"text-align: right;\">\n",
       "      <th></th>\n",
       "      <th>Therapy</th>\n",
       "      <th>Duration</th>\n",
       "      <th>Improvement</th>\n",
       "    </tr>\n",
       "  </thead>\n",
       "  <tbody>\n",
       "    <tr>\n",
       "      <th>0</th>\n",
       "      <td>New</td>\n",
       "      <td>Short-term</td>\n",
       "      <td>6</td>\n",
       "    </tr>\n",
       "    <tr>\n",
       "      <th>1</th>\n",
       "      <td>New</td>\n",
       "      <td>Short-term</td>\n",
       "      <td>9</td>\n",
       "    </tr>\n",
       "    <tr>\n",
       "      <th>2</th>\n",
       "      <td>New</td>\n",
       "      <td>Short-term</td>\n",
       "      <td>8</td>\n",
       "    </tr>\n",
       "    <tr>\n",
       "      <th>3</th>\n",
       "      <td>New</td>\n",
       "      <td>Short-term</td>\n",
       "      <td>5</td>\n",
       "    </tr>\n",
       "    <tr>\n",
       "      <th>4</th>\n",
       "      <td>Old</td>\n",
       "      <td>Short-term</td>\n",
       "      <td>10</td>\n",
       "    </tr>\n",
       "    <tr>\n",
       "      <th>5</th>\n",
       "      <td>Old</td>\n",
       "      <td>Short-term</td>\n",
       "      <td>11</td>\n",
       "    </tr>\n",
       "    <tr>\n",
       "      <th>6</th>\n",
       "      <td>Old</td>\n",
       "      <td>Short-term</td>\n",
       "      <td>5</td>\n",
       "    </tr>\n",
       "    <tr>\n",
       "      <th>7</th>\n",
       "      <td>Old</td>\n",
       "      <td>Short-term</td>\n",
       "      <td>9</td>\n",
       "    </tr>\n",
       "    <tr>\n",
       "      <th>8</th>\n",
       "      <td>New</td>\n",
       "      <td>Medium-term</td>\n",
       "      <td>15</td>\n",
       "    </tr>\n",
       "    <tr>\n",
       "      <th>9</th>\n",
       "      <td>New</td>\n",
       "      <td>Medium-term</td>\n",
       "      <td>18</td>\n",
       "    </tr>\n",
       "    <tr>\n",
       "      <th>10</th>\n",
       "      <td>New</td>\n",
       "      <td>Medium-term</td>\n",
       "      <td>16</td>\n",
       "    </tr>\n",
       "    <tr>\n",
       "      <th>11</th>\n",
       "      <td>New</td>\n",
       "      <td>Medium-term</td>\n",
       "      <td>20</td>\n",
       "    </tr>\n",
       "    <tr>\n",
       "      <th>12</th>\n",
       "      <td>Old</td>\n",
       "      <td>Medium-term</td>\n",
       "      <td>9</td>\n",
       "    </tr>\n",
       "    <tr>\n",
       "      <th>13</th>\n",
       "      <td>Old</td>\n",
       "      <td>Medium-term</td>\n",
       "      <td>12</td>\n",
       "    </tr>\n",
       "    <tr>\n",
       "      <th>14</th>\n",
       "      <td>Old</td>\n",
       "      <td>Medium-term</td>\n",
       "      <td>13</td>\n",
       "    </tr>\n",
       "    <tr>\n",
       "      <th>15</th>\n",
       "      <td>Old</td>\n",
       "      <td>Medium-term</td>\n",
       "      <td>9</td>\n",
       "    </tr>\n",
       "    <tr>\n",
       "      <th>16</th>\n",
       "      <td>New</td>\n",
       "      <td>Long-term</td>\n",
       "      <td>10</td>\n",
       "    </tr>\n",
       "    <tr>\n",
       "      <th>17</th>\n",
       "      <td>New</td>\n",
       "      <td>Long-term</td>\n",
       "      <td>12</td>\n",
       "    </tr>\n",
       "    <tr>\n",
       "      <th>18</th>\n",
       "      <td>New</td>\n",
       "      <td>Long-term</td>\n",
       "      <td>9</td>\n",
       "    </tr>\n",
       "    <tr>\n",
       "      <th>19</th>\n",
       "      <td>New</td>\n",
       "      <td>Long-term</td>\n",
       "      <td>13</td>\n",
       "    </tr>\n",
       "    <tr>\n",
       "      <th>20</th>\n",
       "      <td>Old</td>\n",
       "      <td>Long-term</td>\n",
       "      <td>8</td>\n",
       "    </tr>\n",
       "    <tr>\n",
       "      <th>21</th>\n",
       "      <td>Old</td>\n",
       "      <td>Long-term</td>\n",
       "      <td>7</td>\n",
       "    </tr>\n",
       "    <tr>\n",
       "      <th>22</th>\n",
       "      <td>Old</td>\n",
       "      <td>Long-term</td>\n",
       "      <td>9</td>\n",
       "    </tr>\n",
       "    <tr>\n",
       "      <th>23</th>\n",
       "      <td>Old</td>\n",
       "      <td>Long-term</td>\n",
       "      <td>12</td>\n",
       "    </tr>\n",
       "  </tbody>\n",
       "</table>\n",
       "</div>"
      ],
      "text/plain": [
       "   Therapy     Duration  Improvement\n",
       "0      New   Short-term            6\n",
       "1      New   Short-term            9\n",
       "2      New   Short-term            8\n",
       "3      New   Short-term            5\n",
       "4      Old   Short-term           10\n",
       "5      Old   Short-term           11\n",
       "6      Old   Short-term            5\n",
       "7      Old   Short-term            9\n",
       "8      New  Medium-term           15\n",
       "9      New  Medium-term           18\n",
       "10     New  Medium-term           16\n",
       "11     New  Medium-term           20\n",
       "12     Old  Medium-term            9\n",
       "13     Old  Medium-term           12\n",
       "14     Old  Medium-term           13\n",
       "15     Old  Medium-term            9\n",
       "16     New    Long-term           10\n",
       "17     New    Long-term           12\n",
       "18     New    Long-term            9\n",
       "19     New    Long-term           13\n",
       "20     Old    Long-term            8\n",
       "21     Old    Long-term            7\n",
       "22     Old    Long-term            9\n",
       "23     Old    Long-term           12"
      ]
     },
     "execution_count": 4,
     "metadata": {},
     "output_type": "execute_result"
    }
   ],
   "source": [
    "import pandas as pd\n",
    "\n",
    "data = {\n",
    "    'Therapy': ['New', 'New', 'New', 'New', 'Old', 'Old', 'Old', 'Old',\n",
    "                'New', 'New', 'New', 'New', 'Old', 'Old', 'Old', 'Old',\n",
    "                'New', 'New', 'New', 'New', 'Old', 'Old', 'Old', 'Old'],\n",
    "    'Duration': ['Short-term', 'Short-term', 'Short-term', 'Short-term',\n",
    "                 'Short-term', 'Short-term', 'Short-term', 'Short-term',\n",
    "                 'Medium-term', 'Medium-term', 'Medium-term', 'Medium-term',\n",
    "                 'Medium-term', 'Medium-term', 'Medium-term', 'Medium-term',\n",
    "                 'Long-term', 'Long-term', 'Long-term', 'Long-term',\n",
    "                 'Long-term', 'Long-term', 'Long-term', 'Long-term'],\n",
    "    'Improvement': [6, 9, 8, 5, 10, 11, 5, 9,\n",
    "                    15, 18, 16, 20, 9, 12, 13, 9,\n",
    "                    10, 12, 9, 13, 8, 7, 9, 12]\n",
    "}\n",
    "\n",
    "# Create the DataFrame\n",
    "df = pd.DataFrame(data)\n",
    "\n",
    "df"
   ]
  },
  {
   "cell_type": "markdown",
   "id": "9a231755-262d-45ad-96df-9682ebfca3a7",
   "metadata": {},
   "source": [
    "## Task 1"
   ]
  },
  {
   "cell_type": "markdown",
   "id": "c7e16d3a-6d96-4d6d-a6a2-7bb1c5f712b4",
   "metadata": {},
   "source": [
    "Generate a table of means and SDs."
   ]
  },
  {
   "cell_type": "code",
   "execution_count": 5,
   "id": "191e34d0-128c-4f05-a773-7807d5ae1303",
   "metadata": {},
   "outputs": [
    {
     "data": {
      "text/html": [
       "<div>\n",
       "<style scoped>\n",
       "    .dataframe tbody tr th:only-of-type {\n",
       "        vertical-align: middle;\n",
       "    }\n",
       "\n",
       "    .dataframe tbody tr th {\n",
       "        vertical-align: top;\n",
       "    }\n",
       "\n",
       "    .dataframe thead th {\n",
       "        text-align: right;\n",
       "    }\n",
       "</style>\n",
       "<table border=\"1\" class=\"dataframe\">\n",
       "  <thead>\n",
       "    <tr style=\"text-align: right;\">\n",
       "      <th></th>\n",
       "      <th>Therapy</th>\n",
       "      <th>Duration</th>\n",
       "      <th>Mean Improvement</th>\n",
       "      <th>SD Improvement</th>\n",
       "    </tr>\n",
       "  </thead>\n",
       "  <tbody>\n",
       "    <tr>\n",
       "      <th>0</th>\n",
       "      <td>New</td>\n",
       "      <td>Long-term</td>\n",
       "      <td>11.00</td>\n",
       "      <td>1.825742</td>\n",
       "    </tr>\n",
       "    <tr>\n",
       "      <th>1</th>\n",
       "      <td>New</td>\n",
       "      <td>Medium-term</td>\n",
       "      <td>17.25</td>\n",
       "      <td>2.217356</td>\n",
       "    </tr>\n",
       "    <tr>\n",
       "      <th>2</th>\n",
       "      <td>New</td>\n",
       "      <td>Short-term</td>\n",
       "      <td>7.00</td>\n",
       "      <td>1.825742</td>\n",
       "    </tr>\n",
       "    <tr>\n",
       "      <th>3</th>\n",
       "      <td>Old</td>\n",
       "      <td>Long-term</td>\n",
       "      <td>9.00</td>\n",
       "      <td>2.160247</td>\n",
       "    </tr>\n",
       "    <tr>\n",
       "      <th>4</th>\n",
       "      <td>Old</td>\n",
       "      <td>Medium-term</td>\n",
       "      <td>10.75</td>\n",
       "      <td>2.061553</td>\n",
       "    </tr>\n",
       "    <tr>\n",
       "      <th>5</th>\n",
       "      <td>Old</td>\n",
       "      <td>Short-term</td>\n",
       "      <td>8.75</td>\n",
       "      <td>2.629956</td>\n",
       "    </tr>\n",
       "  </tbody>\n",
       "</table>\n",
       "</div>"
      ],
      "text/plain": [
       "  Therapy     Duration  Mean Improvement  SD Improvement\n",
       "0     New    Long-term             11.00        1.825742\n",
       "1     New  Medium-term             17.25        2.217356\n",
       "2     New   Short-term              7.00        1.825742\n",
       "3     Old    Long-term              9.00        2.160247\n",
       "4     Old  Medium-term             10.75        2.061553\n",
       "5     Old   Short-term              8.75        2.629956"
      ]
     },
     "execution_count": 5,
     "metadata": {},
     "output_type": "execute_result"
    }
   ],
   "source": [
    "# Calculate means and standard deviations for each combination of Therapy and Duration\n",
    "means_sds = df.groupby(['Therapy', 'Duration']).agg(['mean', 'std']).reset_index()\n",
    "means_sds.columns = ['Therapy', 'Duration', 'Mean Improvement', 'SD Improvement']\n",
    "\n",
    "means_sds"
   ]
  },
  {
   "cell_type": "markdown",
   "id": "973060e8-99a7-4f5b-b54c-bcff7135c326",
   "metadata": {},
   "source": [
    "## Task 2"
   ]
  },
  {
   "cell_type": "markdown",
   "id": "7716d4fa-5f80-4934-9e40-63b39879db6a",
   "metadata": {},
   "source": [
    "Perform an ANOVA using General Linear Model, Univariate, and report the significant effects."
   ]
  },
  {
   "cell_type": "code",
   "execution_count": 6,
   "id": "c31738a9-71b7-4d01-9410-e0a851936a06",
   "metadata": {},
   "outputs": [
    {
     "data": {
      "text/html": [
       "<div>\n",
       "<style scoped>\n",
       "    .dataframe tbody tr th:only-of-type {\n",
       "        vertical-align: middle;\n",
       "    }\n",
       "\n",
       "    .dataframe tbody tr th {\n",
       "        vertical-align: top;\n",
       "    }\n",
       "\n",
       "    .dataframe thead th {\n",
       "        text-align: right;\n",
       "    }\n",
       "</style>\n",
       "<table border=\"1\" class=\"dataframe\">\n",
       "  <thead>\n",
       "    <tr style=\"text-align: right;\">\n",
       "      <th></th>\n",
       "      <th>sum_sq</th>\n",
       "      <th>df</th>\n",
       "      <th>F</th>\n",
       "      <th>PR(&gt;F)</th>\n",
       "    </tr>\n",
       "  </thead>\n",
       "  <tbody>\n",
       "    <tr>\n",
       "      <th>C(Therapy)</th>\n",
       "      <td>30.375</td>\n",
       "      <td>1.0</td>\n",
       "      <td>6.647416</td>\n",
       "      <td>0.018945</td>\n",
       "    </tr>\n",
       "    <tr>\n",
       "      <th>C(Duration)</th>\n",
       "      <td>154.750</td>\n",
       "      <td>2.0</td>\n",
       "      <td>16.933131</td>\n",
       "      <td>0.000073</td>\n",
       "    </tr>\n",
       "    <tr>\n",
       "      <th>C(Therapy):C(Duration)</th>\n",
       "      <td>68.250</td>\n",
       "      <td>2.0</td>\n",
       "      <td>7.468085</td>\n",
       "      <td>0.004349</td>\n",
       "    </tr>\n",
       "    <tr>\n",
       "      <th>Residual</th>\n",
       "      <td>82.250</td>\n",
       "      <td>18.0</td>\n",
       "      <td>NaN</td>\n",
       "      <td>NaN</td>\n",
       "    </tr>\n",
       "  </tbody>\n",
       "</table>\n",
       "</div>"
      ],
      "text/plain": [
       "                         sum_sq    df          F    PR(>F)\n",
       "C(Therapy)               30.375   1.0   6.647416  0.018945\n",
       "C(Duration)             154.750   2.0  16.933131  0.000073\n",
       "C(Therapy):C(Duration)   68.250   2.0   7.468085  0.004349\n",
       "Residual                 82.250  18.0        NaN       NaN"
      ]
     },
     "execution_count": 6,
     "metadata": {},
     "output_type": "execute_result"
    }
   ],
   "source": [
    "import statsmodels.api as sm\n",
    "from statsmodels.formula.api import ols\n",
    "\n",
    "# Define the model\n",
    "model = ols('Improvement ~ C(Therapy) * C(Duration)', data=df).fit()\n",
    "\n",
    "# Perform ANOVA and get the results\n",
    "anova_results = sm.stats.anova_lm(model, typ=2)\n",
    "\n",
    "anova_results"
   ]
  },
  {
   "cell_type": "markdown",
   "id": "b250d64a-be49-44f2-9982-b4acee96d7cc",
   "metadata": {},
   "source": [
    "The F-test results in the ANOVA table indicate the following significant effects:\n",
    "\n",
    "- There is a significant main effect of Therapy (p = 0.0189), indicating that the mean improvement index differs between the new and old therapies.\n",
    "- There is a significant main effect of Duration (p = 0.0001), suggesting that the mean improvement index differs across the short-term, medium-term, and long-term durations.\n",
    "- There is also a significant interaction effect between Therapy and Duration (p = 0.0043), which suggests that the effect of Therapy on the improvement index depends on the Duration of the therapy."
   ]
  },
  {
   "cell_type": "markdown",
   "id": "6f24bf39-5335-44cb-bacc-06a851b5bd41",
   "metadata": {},
   "source": [
    "## Task 3"
   ]
  },
  {
   "cell_type": "markdown",
   "id": "4f67e389-afa9-44dc-bc09-eb7c8d3b6cb4",
   "metadata": {},
   "source": [
    "Plot the interaction in two ways:  \n",
    "i. Duration x Therapy  \n",
    "ii. Therapy x Duration  "
   ]
  },
  {
   "cell_type": "markdown",
   "id": "c42f98cb-7865-4e28-b1c2-6a9743a91277",
   "metadata": {},
   "source": [
    "### i. Duration x Therapy"
   ]
  },
  {
   "cell_type": "code",
   "execution_count": 7,
   "id": "f3bfb43e-c261-4e8d-90e4-a1833edfa9b5",
   "metadata": {},
   "outputs": [
    {
     "name": "stderr",
     "output_type": "stream",
     "text": [
      "C:\\Users\\Chenxi\\AppData\\Local\\Temp\\ipykernel_35040\\3924338185.py:9: FutureWarning: \n",
      "\n",
      "The `ci` parameter is deprecated. Use `errorbar=None` for the same effect.\n",
      "\n",
      "  sns.pointplot(x='Duration', y='Improvement', hue='Therapy', data=df, ci=None)\n"
     ]
    },
    {
     "data": {
      "image/png": "[encoded data removed]",
      "text/plain": [
       "<Figure size 1000x500 with 1 Axes>"
      ]
     },
     "metadata": {},
     "output_type": "display_data"
    }
   ],
   "source": [
    "import matplotlib.pyplot as plt\n",
    "import seaborn as sns\n",
    "\n",
    "# Set up the aesthetics for the plots\n",
    "sns.set_style(\"whitegrid\")\n",
    "\n",
    "# Interaction plot for Duration x Therapy\n",
    "plt.figure(figsize=(10, 5))\n",
    "sns.pointplot(x='Duration', y='Improvement', hue='Therapy', data=df, ci=None)\n",
    "plt.title('Interaction Plot of Duration x Therapy')\n",
    "plt.ylabel('Mean Improvement')\n",
    "plt.xlabel('Duration')\n",
    "plt.legend(title='Therapy')\n",
    "plt.show()"
   ]
  },
  {
   "cell_type": "markdown",
   "id": "2b3e7785-a16c-4258-aee8-ddd9656af2ec",
   "metadata": {},
   "source": [
    "This plot illustrates the interaction between Duration and Therapy. It shows the mean improvement scores for each duration (Short-term, Medium-term, and Long-term) split by the type of therapy (New vs. Old)."
   ]
  },
  {
   "cell_type": "markdown",
   "id": "ed39023e-32e8-4270-824d-5adcc2273143",
   "metadata": {},
   "source": [
    "### ii. Therapy x Duration"
   ]
  },
  {
   "cell_type": "code",
   "execution_count": 8,
   "id": "78ffc93d-0c4c-41ca-b327-08dfeea47fee",
   "metadata": {},
   "outputs": [
    {
     "name": "stderr",
     "output_type": "stream",
     "text": [
      "C:\\Users\\Chenxi\\AppData\\Local\\Temp\\ipykernel_35040\\748995552.py:3: FutureWarning: \n",
      "\n",
      "The `ci` parameter is deprecated. Use `errorbar=None` for the same effect.\n",
      "\n",
      "  sns.pointplot(x='Therapy', y='Improvement', hue='Duration', data=df, ci=None)\n"
     ]
    },
    {
     "data": {
      "image/png": "[encoded data removed]",
      "text/plain": [
       "<Figure size 1000x500 with 1 Axes>"
      ]
     },
     "metadata": {},
     "output_type": "display_data"
    }
   ],
   "source": [
    "# Interaction plot for Therapy x Duration\n",
    "plt.figure(figsize=(10, 5))\n",
    "sns.pointplot(x='Therapy', y='Improvement', hue='Duration', data=df, ci=None)\n",
    "plt.title('Interaction Plot of Therapy x Duration')\n",
    "plt.ylabel('Mean Improvement')\n",
    "plt.xlabel('Therapy')\n",
    "plt.legend(title='Duration')\n",
    "plt.show()"
   ]
  },
  {
   "cell_type": "markdown",
   "id": "cc6d9feb-429f-461f-ba94-33066c7e6f21",
   "metadata": {},
   "source": [
    "This plot shows the interaction between Therapy and Duration, depicting the mean improvement scores for each type of therapy and how they vary across different durations."
   ]
  },
  {
   "cell_type": "markdown",
   "id": "69298259-ae4b-4792-a7b6-8d70cd14c09b",
   "metadata": {},
   "source": [
    "## Task 4"
   ]
  },
  {
   "cell_type": "markdown",
   "id": "c3a80401-23ca-4b9b-8cf8-380a9c855a2b",
   "metadata": {},
   "source": [
    "Perform the simple effects analyses of the following and comment on the significance of the following simple effects:  \n",
    "i. Duration at New Therapy (B at A1)  \n",
    "ii. Therapy at Mid-term (A at B2)  \n",
    "iii. Therapy at Long-term (A at B3)  "
   ]
  },
  {
   "cell_type": "markdown",
   "id": "8ecc2bbd-ce96-4807-9a78-f6b6c9741c56",
   "metadata": {},
   "source": [
    "### i. Duration at New Therapy (B at A1)"
   ]
  },
  {
   "cell_type": "code",
   "execution_count": 10,
   "id": "95766672-6791-40c7-bec7-debb90b13ffa",
   "metadata": {},
   "outputs": [
    {
     "data": {
      "text/html": [
       "<div>\n",
       "<style scoped>\n",
       "    .dataframe tbody tr th:only-of-type {\n",
       "        vertical-align: middle;\n",
       "    }\n",
       "\n",
       "    .dataframe tbody tr th {\n",
       "        vertical-align: top;\n",
       "    }\n",
       "\n",
       "    .dataframe thead th {\n",
       "        text-align: right;\n",
       "    }\n",
       "</style>\n",
       "<table border=\"1\" class=\"dataframe\">\n",
       "  <thead>\n",
       "    <tr style=\"text-align: right;\">\n",
       "      <th></th>\n",
       "      <th>sum_sq</th>\n",
       "      <th>df</th>\n",
       "      <th>F</th>\n",
       "      <th>PR(&gt;F)</th>\n",
       "    </tr>\n",
       "  </thead>\n",
       "  <tbody>\n",
       "    <tr>\n",
       "      <th>C(Duration)</th>\n",
       "      <td>213.50</td>\n",
       "      <td>2.0</td>\n",
       "      <td>27.647482</td>\n",
       "      <td>0.000144</td>\n",
       "    </tr>\n",
       "    <tr>\n",
       "      <th>Residual</th>\n",
       "      <td>34.75</td>\n",
       "      <td>9.0</td>\n",
       "      <td>NaN</td>\n",
       "      <td>NaN</td>\n",
       "    </tr>\n",
       "  </tbody>\n",
       "</table>\n",
       "</div>"
      ],
      "text/plain": [
       "             sum_sq   df          F    PR(>F)\n",
       "C(Duration)  213.50  2.0  27.647482  0.000144\n",
       "Residual      34.75  9.0        NaN       NaN"
      ]
     },
     "execution_count": 10,
     "metadata": {},
     "output_type": "execute_result"
    }
   ],
   "source": [
    "# Filter the dataframe for 'New' therapy only\n",
    "new_therapy_df = df[df['Therapy'] == 'New']\n",
    "# Define the model for new therapy\n",
    "model_new_therapy = ols('Improvement ~ C(Duration)', data=new_therapy_df).fit()\n",
    "# Perform ANOVA on the model for new therapy\n",
    "anova_new_therapy = sm.stats.anova_lm(model_new_therapy, typ=2)\n",
    "\n",
    "anova_new_therapy"
   ]
  },
  {
   "cell_type": "markdown",
   "id": "af01e76c-e2f6-4586-ab9c-40f957d782cb",
   "metadata": {},
   "source": [
    "**Duration at New Therapy (B at A1)**:  \n",
    "There is a statistically significant effect of Duration on Improvement when the Therapy is New (F(2, 9) = 27.65, p < 0.001). This suggests that the duration of New therapy significantly affects the improvement index."
   ]
  },
  {
   "cell_type": "markdown",
   "id": "acd80643-0e2f-4afc-9b17-a482de667f4b",
   "metadata": {},
   "source": [
    "### ii. Therapy at Mid-term (A at B2)"
   ]
  },
  {
   "cell_type": "code",
   "execution_count": 12,
   "id": "931c25a8-d0ad-4370-9e6c-d610ec77e559",
   "metadata": {},
   "outputs": [
    {
     "data": {
      "text/html": [
       "<div>\n",
       "<style scoped>\n",
       "    .dataframe tbody tr th:only-of-type {\n",
       "        vertical-align: middle;\n",
       "    }\n",
       "\n",
       "    .dataframe tbody tr th {\n",
       "        vertical-align: top;\n",
       "    }\n",
       "\n",
       "    .dataframe thead th {\n",
       "        text-align: right;\n",
       "    }\n",
       "</style>\n",
       "<table border=\"1\" class=\"dataframe\">\n",
       "  <thead>\n",
       "    <tr style=\"text-align: right;\">\n",
       "      <th></th>\n",
       "      <th>sum_sq</th>\n",
       "      <th>df</th>\n",
       "      <th>F</th>\n",
       "      <th>PR(&gt;F)</th>\n",
       "    </tr>\n",
       "  </thead>\n",
       "  <tbody>\n",
       "    <tr>\n",
       "      <th>C(Therapy)</th>\n",
       "      <td>84.5</td>\n",
       "      <td>1.0</td>\n",
       "      <td>18.436364</td>\n",
       "      <td>0.005128</td>\n",
       "    </tr>\n",
       "    <tr>\n",
       "      <th>Residual</th>\n",
       "      <td>27.5</td>\n",
       "      <td>6.0</td>\n",
       "      <td>NaN</td>\n",
       "      <td>NaN</td>\n",
       "    </tr>\n",
       "  </tbody>\n",
       "</table>\n",
       "</div>"
      ],
      "text/plain": [
       "            sum_sq   df          F    PR(>F)\n",
       "C(Therapy)    84.5  1.0  18.436364  0.005128\n",
       "Residual      27.5  6.0        NaN       NaN"
      ]
     },
     "execution_count": 12,
     "metadata": {},
     "output_type": "execute_result"
    }
   ],
   "source": [
    "# Filter the dataframe for 'Medium-term' duration only\n",
    "mid_term_df = df[df['Duration'] == 'Medium-term']\n",
    "# Define the model for mid-term duration\n",
    "model_mid_term = ols('Improvement ~ C(Therapy)', data=mid_term_df).fit()\n",
    "# Perform ANOVA on the model for mid-term duration\n",
    "anova_mid_term = sm.stats.anova_lm(model_mid_term, typ=2)\n",
    "\n",
    "anova_mid_term"
   ]
  },
  {
   "cell_type": "markdown",
   "id": "f2f6b1e5-0290-4a9b-a8c3-44ae1db93e15",
   "metadata": {},
   "source": [
    "**Therapy at Mid-term (A at B2)**:  \n",
    "There is a statistically significant effect of Therapy on Improvement during the Mid-term duration (F(1, 6) = 18.44, p = 0.005). This indicates that the type of therapy (New vs. Old) significantly affects the improvement index at the Mid-term duration."
   ]
  },
  {
   "cell_type": "markdown",
   "id": "a2fb97ce-53cd-481e-8535-07743363df2d",
   "metadata": {},
   "source": [
    "### iii. Therapy at Long-term (A at B3)"
   ]
  },
  {
   "cell_type": "code",
   "execution_count": 13,
   "id": "ef401d88-20b0-458d-b4b2-88de56dcd231",
   "metadata": {},
   "outputs": [
    {
     "data": {
      "text/html": [
       "<div>\n",
       "<style scoped>\n",
       "    .dataframe tbody tr th:only-of-type {\n",
       "        vertical-align: middle;\n",
       "    }\n",
       "\n",
       "    .dataframe tbody tr th {\n",
       "        vertical-align: top;\n",
       "    }\n",
       "\n",
       "    .dataframe thead th {\n",
       "        text-align: right;\n",
       "    }\n",
       "</style>\n",
       "<table border=\"1\" class=\"dataframe\">\n",
       "  <thead>\n",
       "    <tr style=\"text-align: right;\">\n",
       "      <th></th>\n",
       "      <th>sum_sq</th>\n",
       "      <th>df</th>\n",
       "      <th>F</th>\n",
       "      <th>PR(&gt;F)</th>\n",
       "    </tr>\n",
       "  </thead>\n",
       "  <tbody>\n",
       "    <tr>\n",
       "      <th>C(Therapy)</th>\n",
       "      <td>8.0</td>\n",
       "      <td>1.0</td>\n",
       "      <td>2.0</td>\n",
       "      <td>0.207031</td>\n",
       "    </tr>\n",
       "    <tr>\n",
       "      <th>Residual</th>\n",
       "      <td>24.0</td>\n",
       "      <td>6.0</td>\n",
       "      <td>NaN</td>\n",
       "      <td>NaN</td>\n",
       "    </tr>\n",
       "  </tbody>\n",
       "</table>\n",
       "</div>"
      ],
      "text/plain": [
       "            sum_sq   df    F    PR(>F)\n",
       "C(Therapy)     8.0  1.0  2.0  0.207031\n",
       "Residual      24.0  6.0  NaN       NaN"
      ]
     },
     "execution_count": 13,
     "metadata": {},
     "output_type": "execute_result"
    }
   ],
   "source": [
    "# Filter the dataframe for 'Long-term' duration only\n",
    "long_term_df = df[df['Duration'] == 'Long-term']\n",
    "# Define the model for long-term duration\n",
    "model_long_term = ols('Improvement ~ C(Therapy)', data=long_term_df).fit()\n",
    "# Perform ANOVA on the model for long-term duration\n",
    "anova_long_term = sm.stats.anova_lm(model_long_term, typ=2)\n",
    "\n",
    "anova_long_term"
   ]
  },
  {
   "cell_type": "markdown",
   "id": "d447a4a1-84d6-4b10-a7df-5bbc565ec6b8",
   "metadata": {},
   "source": [
    "**Therapy at Long-term (A at B3)**:  \n",
    "The effect of Therapy on Improvement during the Long-term duration is not statistically significant (F(1, 6) = 2.00, p = 0.207). This suggests that at Long-term duration, the type of therapy does not have a significant impact on the improvement index."
   ]
  },
  {
   "cell_type": "markdown",
   "id": "5ed64149-fc6c-4465-9241-29b66923cf98",
   "metadata": {},
   "source": [
    "## Task5"
   ]
  },
  {
   "cell_type": "markdown",
   "id": "37a15c94-cc60-4565-9261-0ceb15cae635",
   "metadata": {},
   "source": [
    "Provide the conclusions drawn from the simple effects analyses?"
   ]
  },
  {
   "cell_type": "markdown",
   "id": "2fd48e76-2834-4ffc-b60e-b8244b0107f1",
   "metadata": {},
   "source": [
    "**Duration at New Therapy (B at A1)**:  \n",
    "The Duration of therapy significantly affects the Improvement index when the therapy is New. This means that the length of the New therapy (Short-term, Medium-term, or Long-term) has a significant impact on how much improvement is observed. The p-value being less than 0.001 indicates a very strong statistical significance, which suggests that the difference in improvement scores across different durations is unlikely to be due to chance.  \n",
    "**Therapy at Mid-term (A at B2)**:  \n",
    "At the Mid-term duration, the type of therapy (New vs. Old) significantly influences the Improvement index. This indicates that, at this duration, one therapy leads to a statistically significant different amount of improvement compared to the other. With a p-value of 0.0051, we can be fairly confident that this result is not due to random variation, but rather that the difference in therapies truly has an effect.  \n",
    "**Therapy at Long-term (A at B3)**:  \n",
    "For the Long-term duration, the difference in Improvement index between the New and Old therapies is not statistically significant. This means that, over the long term, the type of therapy does not have a statistically detectable impact on the amount of improvement. The p-value of 0.207 exceeds the typical alpha level of 0.05, indicating that we cannot reject the null hypothesis that there is no difference between therapies for long-term improvement.  \n",
    "- In summary, while the type of therapy and the duration both seem to have significant effects when considered separately or interactively (as shown by the initial ANOVA), the simple effects analysis shows that the impact of these factors can vary when analyzed at specific levels. Specifically, the new therapy seems to be differentially effective depending on the duration, and the type of therapy makes a significant difference in the mid-term but not in the long-term."
   ]
  },
  {
   "cell_type": "code",
   "execution_count": null,
   "id": "f7cec747-b054-4e16-83dd-99c95e9f5c36",
   "metadata": {},
   "outputs": [],
   "source": []
  }
 ],
 "metadata": {
  "kernelspec": {
   "display_name": "Python 3 (ipykernel)",
   "language": "python",
   "name": "python3"
  },
  "language_info": {
   "codemirror_mode": {
    "name": "ipython",
    "version": 3
   },
   "file_extension": ".py",
   "mimetype": "text/x-python",
   "name": "python",
   "nbconvert_exporter": "python",
   "pygments_lexer": "ipython3",
   "version": "3.9.18"
  }
 },
 "nbformat": 4,
 "nbformat_minor": 5
}
